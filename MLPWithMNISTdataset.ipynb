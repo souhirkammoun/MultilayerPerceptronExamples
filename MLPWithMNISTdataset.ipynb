{
  "nbformat": 4,
  "nbformat_minor": 0,
  "metadata": {
    "colab": {
      "name": "MLPWithMNISTdataset.ipynb",
      "provenance": [],
      "include_colab_link": true
    },
    "kernelspec": {
      "name": "python3",
      "display_name": "Python 3"
    }
  },
  "cells": [
    {
      "cell_type": "markdown",
      "metadata": {
        "id": "view-in-github",
        "colab_type": "text"
      },
      "source": [
        "<a href=\"https://colab.research.google.com/github/souhirkammoun/MultilayerPerceptronExamples/blob/master/MLPWithMNISTdataset.ipynb\" target=\"_parent\"><img src=\"https://colab.research.google.com/assets/colab-badge.svg\" alt=\"Open In Colab\"/></a>"
      ]
    },
    {
      "cell_type": "code",
      "metadata": {
        "id": "PGhrrqGBqq4P",
        "colab_type": "code",
        "colab": {}
      },
      "source": [
        "import matplotlib.pyplot as plt\n",
        "%matplotlib inline\n",
        "import numpy as np\n",
        "\n",
        "nb_classes = 10"
      ],
      "execution_count": 0,
      "outputs": []
    },
    {
      "cell_type": "code",
      "metadata": {
        "id": "lkN74drfqrw0",
        "colab_type": "code",
        "colab": {
          "base_uri": "https://localhost:8080/",
          "height": 131
        },
        "outputId": "c4d8a72e-d992-4aef-f5eb-2cce2d9371eb"
      },
      "source": [
        "#Load the MNIST Dataset\n",
        "from keras.datasets import mnist\n",
        "from keras.utils import np_utils\n",
        "\n",
        "(X_train, y_train), (X_test, y_test) = mnist.load_data()\n",
        "# we can look at the shape of the dataset\n",
        "X_train.shape\n",
        "# it appears that we have 60,000 samples in our training set, and the images are 28 pixels x 28 pixels each. "
      ],
      "execution_count": 2,
      "outputs": [
        {
          "output_type": "stream",
          "text": [
            "Using TensorFlow backend.\n"
          ],
          "name": "stderr"
        },
        {
          "output_type": "display_data",
          "data": {
            "text/html": [
              "<p style=\"color: red;\">\n",
              "The default version of TensorFlow in Colab will soon switch to TensorFlow 2.x.<br>\n",
              "We recommend you <a href=\"https://www.tensorflow.org/guide/migrate\" target=\"_blank\">upgrade</a> now \n",
              "or ensure your notebook will continue to use TensorFlow 1.x via the <code>%tensorflow_version 1.x</code> magic:\n",
              "<a href=\"https://colab.research.google.com/notebooks/tensorflow_version.ipynb\" target=\"_blank\">more info</a>.</p>\n"
            ],
            "text/plain": [
              "<IPython.core.display.HTML object>"
            ]
          },
          "metadata": {
            "tags": []
          }
        },
        {
          "output_type": "stream",
          "text": [
            "Downloading data from https://s3.amazonaws.com/img-datasets/mnist.npz\n",
            "11493376/11490434 [==============================] - 2s 0us/step\n"
          ],
          "name": "stdout"
        },
        {
          "output_type": "execute_result",
          "data": {
            "text/plain": [
              "(60000, 28, 28)"
            ]
          },
          "metadata": {
            "tags": []
          },
          "execution_count": 2
        }
      ]
    },
    {
      "cell_type": "code",
      "metadata": {
        "id": "5Vn8mEgjquye",
        "colab_type": "code",
        "colab": {
          "base_uri": "https://localhost:8080/",
          "height": 241
        },
        "outputId": "2e1a420d-f14a-4236-b3da-14889fb8458c"
      },
      "source": [
        "import tensorflow.compat.v1 as tf\n",
        "tf.disable_v2_behavior() \n",
        "#Data preperation\n",
        "# we want to transform our dataset from having shape (n, width, height) to (n, width *height).\n",
        "print(X_train.shape)\n",
        "X_train = X_train.reshape(60000, 784)\n",
        "X_test = X_test.reshape(10000, 784)\n",
        "print(X_train.shape)\n",
        "#we can convert our data type to float32 and normalize our data values to the range [0, 1].\n",
        "X_train = X_train.astype(\"float32\")\n",
        "X_test = X_test.astype(\"float32\")\n",
        "X_train /= 255\n",
        "X_test /= 255\n",
        "print(y_train.shape)\n",
        "#We should have 10 different classes, one for each digit, but it looks like we only have a 1-dimensional array.\n",
        "# we must Convert 1-dimensional class arrays to 10-dimensional class matrices\n",
        "Y_train = np_utils.to_categorical(y_train, 10)\n",
        "Y_test = np_utils.to_categorical(y_test, 10)\n",
        "print('First 3 labels: ', y_train[:3])\n",
        "print('\\nFirst 3 labels (one-hot):\\n', Y_train[:3])"
      ],
      "execution_count": 3,
      "outputs": [
        {
          "output_type": "stream",
          "text": [
            "WARNING:tensorflow:From /usr/local/lib/python3.6/dist-packages/tensorflow_core/python/compat/v2_compat.py:68: disable_resource_variables (from tensorflow.python.ops.variable_scope) is deprecated and will be removed in a future version.\n",
            "Instructions for updating:\n",
            "non-resource variables are not supported in the long term\n",
            "(60000, 28, 28)\n",
            "(60000, 784)\n",
            "(60000,)\n",
            "First 3 labels:  [5 0 4]\n",
            "\n",
            "First 3 labels (one-hot):\n",
            " [[0. 0. 0. 0. 0. 1. 0. 0. 0. 0.]\n",
            " [1. 0. 0. 0. 0. 0. 0. 0. 0. 0.]\n",
            " [0. 0. 0. 0. 1. 0. 0. 0. 0. 0.]]\n"
          ],
          "name": "stdout"
        }
      ]
    },
    {
      "cell_type": "code",
      "metadata": {
        "id": "qsOM5eliq0hA",
        "colab_type": "code",
        "colab": {
          "base_uri": "https://localhost:8080/",
          "height": 299
        },
        "outputId": "6c8f2525-99d4-4e47-f70e-8e314e1461d5"
      },
      "source": [
        "from sklearn.model_selection import train_test_split\n",
        "\n",
        "X_train, X_val, Y_train, Y_val = train_test_split(X_train, Y_train)\n",
        "# test the dataset\n",
        "plt.imshow(X_train[5].reshape(28, 28))\n",
        "print(np.asarray(range(10)))\n",
        "print(Y_train[5].astype('int'))"
      ],
      "execution_count": 4,
      "outputs": [
        {
          "output_type": "stream",
          "text": [
            "[0 1 2 3 4 5 6 7 8 9]\n",
            "[0 0 0 0 0 0 0 0 1 0]\n"
          ],
          "name": "stdout"
        },
        {
          "output_type": "display_data",
          "data": {
            "image/png": "[encoded data removed]",
            "text/plain": [
              "<Figure size 432x288 with 1 Axes>"
            ]
          },
          "metadata": {
            "tags": []
          }
        }
      ]
    },
    {
      "cell_type": "code",
      "metadata": {
        "id": "wO7CoIoYq7as",
        "colab_type": "code",
        "colab": {
          "base_uri": "https://localhost:8080/",
          "height": 292
        },
        "outputId": "8ebd9e1b-35d0-4195-e854-195d80685973"
      },
      "source": [
        "from keras.models import Sequential\n",
        "from keras.layers.core import Dense, Activation, Dropout\n",
        "from keras.optimizers import SGD\n",
        "# create the model\n",
        "model = Sequential()\n",
        "model.add(Dense(512, input_shape=(784,)))\n",
        "model.add(Activation(\"relu\"))\n",
        "model.add(Dropout(0.2))\n",
        "model.add(Dense(256))\n",
        "model.add(Activation(\"relu\"))\n",
        "model.add(Dropout(0.2))\n",
        "model.add(Dense(nb_classes))\n",
        "model.add(Activation(\"softmax\"))\n",
        "\n",
        "\n",
        "model.compile(loss='categorical_crossentropy', optimizer=SGD(lr=0.001), metrics=['accuracy'])"
      ],
      "execution_count": 5,
      "outputs": [
        {
          "output_type": "stream",
          "text": [
            "WARNING:tensorflow:From /usr/local/lib/python3.6/dist-packages/keras/backend/tensorflow_backend.py:66: The name tf.get_default_graph is deprecated. Please use tf.compat.v1.get_default_graph instead.\n",
            "\n",
            "WARNING:tensorflow:From /usr/local/lib/python3.6/dist-packages/keras/backend/tensorflow_backend.py:541: The name tf.placeholder is deprecated. Please use tf.compat.v1.placeholder instead.\n",
            "\n",
            "WARNING:tensorflow:From /usr/local/lib/python3.6/dist-packages/keras/backend/tensorflow_backend.py:4432: The name tf.random_uniform is deprecated. Please use tf.random.uniform instead.\n",
            "\n",
            "WARNING:tensorflow:From /usr/local/lib/python3.6/dist-packages/keras/backend/tensorflow_backend.py:148: The name tf.placeholder_with_default is deprecated. Please use tf.compat.v1.placeholder_with_default instead.\n",
            "\n",
            "WARNING:tensorflow:From /usr/local/lib/python3.6/dist-packages/keras/backend/tensorflow_backend.py:3733: calling dropout (from tensorflow.python.ops.nn_ops) with keep_prob is deprecated and will be removed in a future version.\n",
            "Instructions for updating:\n",
            "Please use `rate` instead of `keep_prob`. Rate should be set to `rate = 1 - keep_prob`.\n",
            "WARNING:tensorflow:From /usr/local/lib/python3.6/dist-packages/keras/optimizers.py:793: The name tf.train.Optimizer is deprecated. Please use tf.compat.v1.train.Optimizer instead.\n",
            "\n",
            "WARNING:tensorflow:From /usr/local/lib/python3.6/dist-packages/keras/backend/tensorflow_backend.py:3576: The name tf.log is deprecated. Please use tf.math.log instead.\n",
            "\n"
          ],
          "name": "stdout"
        }
      ]
    },
    {
      "cell_type": "code",
      "metadata": {
        "id": "s-vtoSvAq-BG",
        "colab_type": "code",
        "colab": {
          "base_uri": "https://localhost:8080/",
          "height": 1000
        },
        "outputId": "7ef33fdc-0364-4d62-9167-14a962f748d6"
      },
      "source": [
        "#Training the model \n",
        "network_history = model.fit(X_train, Y_train, batch_size=128, epochs=50, validation_data=(X_val, Y_val), verbose=1)"
      ],
      "execution_count": 6,
      "outputs": [
        {
          "output_type": "stream",
          "text": [
            "WARNING:tensorflow:From /usr/local/lib/python3.6/dist-packages/tensorflow_core/python/ops/math_grad.py:1424: where (from tensorflow.python.ops.array_ops) is deprecated and will be removed in a future version.\n",
            "Instructions for updating:\n",
            "Use tf.where in 2.0, which has the same broadcast rule as np.where\n",
            "WARNING:tensorflow:From /usr/local/lib/python3.6/dist-packages/keras/backend/tensorflow_backend.py:1033: The name tf.assign_add is deprecated. Please use tf.compat.v1.assign_add instead.\n",
            "\n",
            "WARNING:tensorflow:From /usr/local/lib/python3.6/dist-packages/keras/backend/tensorflow_backend.py:1020: The name tf.assign is deprecated. Please use tf.compat.v1.assign instead.\n",
            "\n",
            "WARNING:tensorflow:From /usr/local/lib/python3.6/dist-packages/keras/backend/tensorflow_backend.py:3005: The name tf.Session is deprecated. Please use tf.compat.v1.Session instead.\n",
            "\n",
            "Train on 45000 samples, validate on 15000 samples\n",
            "Epoch 1/50\n",
            "WARNING:tensorflow:From /usr/local/lib/python3.6/dist-packages/keras/backend/tensorflow_backend.py:190: The name tf.get_default_session is deprecated. Please use tf.compat.v1.get_default_session instead.\n",
            "\n",
            "WARNING:tensorflow:From /usr/local/lib/python3.6/dist-packages/keras/backend/tensorflow_backend.py:197: The name tf.ConfigProto is deprecated. Please use tf.compat.v1.ConfigProto instead.\n",
            "\n",
            "WARNING:tensorflow:From /usr/local/lib/python3.6/dist-packages/keras/backend/tensorflow_backend.py:207: The name tf.global_variables is deprecated. Please use tf.compat.v1.global_variables instead.\n",
            "\n",
            "WARNING:tensorflow:From /usr/local/lib/python3.6/dist-packages/keras/backend/tensorflow_backend.py:216: The name tf.is_variable_initialized is deprecated. Please use tf.compat.v1.is_variable_initialized instead.\n",
            "\n",
            "WARNING:tensorflow:From /usr/local/lib/python3.6/dist-packages/keras/backend/tensorflow_backend.py:223: The name tf.variables_initializer is deprecated. Please use tf.compat.v1.variables_initializer instead.\n",
            "\n",
            "45000/45000 [==============================] - 6s 136us/step - loss: 2.2083 - acc: 0.2185 - val_loss: 2.0472 - val_acc: 0.4985\n",
            "Epoch 2/50\n",
            "45000/45000 [==============================] - 5s 117us/step - loss: 1.9764 - acc: 0.4498 - val_loss: 1.8108 - val_acc: 0.6781\n",
            "Epoch 3/50\n",
            "45000/45000 [==============================] - 5s 121us/step - loss: 1.7554 - acc: 0.5855 - val_loss: 1.5722 - val_acc: 0.7441\n",
            "Epoch 4/50\n",
            "45000/45000 [==============================] - 6s 128us/step - loss: 1.5319 - acc: 0.6639 - val_loss: 1.3454 - val_acc: 0.7767\n",
            "Epoch 5/50\n",
            "45000/45000 [==============================] - 5s 119us/step - loss: 1.3303 - acc: 0.7073 - val_loss: 1.1507 - val_acc: 0.7999\n",
            "Epoch 6/50\n",
            "45000/45000 [==============================] - 5s 118us/step - loss: 1.1634 - acc: 0.7375 - val_loss: 0.9955 - val_acc: 0.8171\n",
            "Epoch 7/50\n",
            "45000/45000 [==============================] - 5s 118us/step - loss: 1.0306 - acc: 0.7576 - val_loss: 0.8767 - val_acc: 0.8297\n",
            "Epoch 8/50\n",
            "45000/45000 [==============================] - 5s 119us/step - loss: 0.9291 - acc: 0.7714 - val_loss: 0.7859 - val_acc: 0.8397\n",
            "Epoch 9/50\n",
            "45000/45000 [==============================] - 5s 119us/step - loss: 0.8508 - acc: 0.7847 - val_loss: 0.7164 - val_acc: 0.8473\n",
            "Epoch 10/50\n",
            "45000/45000 [==============================] - 5s 119us/step - loss: 0.7883 - acc: 0.7975 - val_loss: 0.6617 - val_acc: 0.8538\n",
            "Epoch 11/50\n",
            "45000/45000 [==============================] - 5s 117us/step - loss: 0.7390 - acc: 0.8048 - val_loss: 0.6183 - val_acc: 0.8601\n",
            "Epoch 12/50\n",
            "45000/45000 [==============================] - 5s 116us/step - loss: 0.7002 - acc: 0.8114 - val_loss: 0.5829 - val_acc: 0.8641\n",
            "Epoch 13/50\n",
            "45000/45000 [==============================] - 5s 119us/step - loss: 0.6678 - acc: 0.8167 - val_loss: 0.5533 - val_acc: 0.8684\n",
            "Epoch 14/50\n",
            "45000/45000 [==============================] - 5s 119us/step - loss: 0.6371 - acc: 0.8247 - val_loss: 0.5286 - val_acc: 0.8707\n",
            "Epoch 15/50\n",
            "45000/45000 [==============================] - 5s 119us/step - loss: 0.6154 - acc: 0.8272 - val_loss: 0.5077 - val_acc: 0.8751\n",
            "Epoch 16/50\n",
            "45000/45000 [==============================] - 5s 118us/step - loss: 0.5938 - acc: 0.8327 - val_loss: 0.4897 - val_acc: 0.8770\n",
            "Epoch 17/50\n",
            "45000/45000 [==============================] - 5s 119us/step - loss: 0.5743 - acc: 0.8384 - val_loss: 0.4740 - val_acc: 0.8797\n",
            "Epoch 18/50\n",
            "45000/45000 [==============================] - 6s 124us/step - loss: 0.5594 - acc: 0.8401 - val_loss: 0.4602 - val_acc: 0.8821\n",
            "Epoch 19/50\n",
            "45000/45000 [==============================] - 6s 123us/step - loss: 0.5465 - acc: 0.8449 - val_loss: 0.4478 - val_acc: 0.8840\n",
            "Epoch 20/50\n",
            "45000/45000 [==============================] - 5s 118us/step - loss: 0.5318 - acc: 0.8470 - val_loss: 0.4367 - val_acc: 0.8860\n",
            "Epoch 21/50\n",
            "45000/45000 [==============================] - 5s 119us/step - loss: 0.5228 - acc: 0.8500 - val_loss: 0.4271 - val_acc: 0.8880\n",
            "Epoch 22/50\n",
            "45000/45000 [==============================] - 5s 117us/step - loss: 0.5078 - acc: 0.8550 - val_loss: 0.4182 - val_acc: 0.8901\n",
            "Epoch 23/50\n",
            "45000/45000 [==============================] - 5s 118us/step - loss: 0.5008 - acc: 0.8564 - val_loss: 0.4100 - val_acc: 0.8919\n",
            "Epoch 24/50\n",
            "45000/45000 [==============================] - 5s 118us/step - loss: 0.4909 - acc: 0.8563 - val_loss: 0.4027 - val_acc: 0.8931\n",
            "Epoch 25/50\n",
            "45000/45000 [==============================] - 5s 121us/step - loss: 0.4842 - acc: 0.8589 - val_loss: 0.3955 - val_acc: 0.8945\n",
            "Epoch 26/50\n",
            "45000/45000 [==============================] - 6s 123us/step - loss: 0.4757 - acc: 0.8622 - val_loss: 0.3892 - val_acc: 0.8956\n",
            "Epoch 27/50\n",
            "45000/45000 [==============================] - 5s 120us/step - loss: 0.4667 - acc: 0.8657 - val_loss: 0.3831 - val_acc: 0.8965\n",
            "Epoch 28/50\n",
            "45000/45000 [==============================] - 5s 118us/step - loss: 0.4623 - acc: 0.8654 - val_loss: 0.3775 - val_acc: 0.8971\n",
            "Epoch 29/50\n",
            "45000/45000 [==============================] - 5s 119us/step - loss: 0.4550 - acc: 0.8675 - val_loss: 0.3727 - val_acc: 0.8979\n",
            "Epoch 30/50\n",
            "45000/45000 [==============================] - 5s 118us/step - loss: 0.4498 - acc: 0.8686 - val_loss: 0.3676 - val_acc: 0.8991\n",
            "Epoch 31/50\n",
            "45000/45000 [==============================] - 5s 119us/step - loss: 0.4437 - acc: 0.8704 - val_loss: 0.3630 - val_acc: 0.8997\n",
            "Epoch 32/50\n",
            "45000/45000 [==============================] - 5s 119us/step - loss: 0.4377 - acc: 0.8732 - val_loss: 0.3587 - val_acc: 0.9006\n",
            "Epoch 33/50\n",
            "45000/45000 [==============================] - 5s 118us/step - loss: 0.4318 - acc: 0.8730 - val_loss: 0.3546 - val_acc: 0.9011\n",
            "Epoch 34/50\n",
            "45000/45000 [==============================] - 5s 120us/step - loss: 0.4295 - acc: 0.8733 - val_loss: 0.3507 - val_acc: 0.9015\n",
            "Epoch 35/50\n",
            "45000/45000 [==============================] - 5s 121us/step - loss: 0.4228 - acc: 0.8772 - val_loss: 0.3471 - val_acc: 0.9029\n",
            "Epoch 36/50\n",
            "45000/45000 [==============================] - 5s 119us/step - loss: 0.4175 - acc: 0.8771 - val_loss: 0.3435 - val_acc: 0.9041\n",
            "Epoch 37/50\n",
            "45000/45000 [==============================] - 5s 121us/step - loss: 0.4185 - acc: 0.8779 - val_loss: 0.3403 - val_acc: 0.9046\n",
            "Epoch 38/50\n",
            "45000/45000 [==============================] - 5s 118us/step - loss: 0.4071 - acc: 0.8813 - val_loss: 0.3370 - val_acc: 0.9059\n",
            "Epoch 39/50\n",
            "45000/45000 [==============================] - 5s 118us/step - loss: 0.4065 - acc: 0.8804 - val_loss: 0.3337 - val_acc: 0.9069\n",
            "Epoch 40/50\n",
            "45000/45000 [==============================] - 5s 117us/step - loss: 0.4035 - acc: 0.8812 - val_loss: 0.3308 - val_acc: 0.9071\n",
            "Epoch 41/50\n",
            "45000/45000 [==============================] - 5s 118us/step - loss: 0.3999 - acc: 0.8826 - val_loss: 0.3282 - val_acc: 0.9077\n",
            "Epoch 42/50\n",
            "45000/45000 [==============================] - 5s 118us/step - loss: 0.3959 - acc: 0.8844 - val_loss: 0.3252 - val_acc: 0.9087\n",
            "Epoch 43/50\n",
            "45000/45000 [==============================] - 5s 118us/step - loss: 0.3920 - acc: 0.8858 - val_loss: 0.3225 - val_acc: 0.9092\n",
            "Epoch 44/50\n",
            "45000/45000 [==============================] - 5s 117us/step - loss: 0.3883 - acc: 0.8868 - val_loss: 0.3200 - val_acc: 0.9096\n",
            "Epoch 45/50\n",
            "45000/45000 [==============================] - 5s 116us/step - loss: 0.3850 - acc: 0.8882 - val_loss: 0.3176 - val_acc: 0.9101\n",
            "Epoch 46/50\n",
            "45000/45000 [==============================] - 5s 117us/step - loss: 0.3823 - acc: 0.8880 - val_loss: 0.3151 - val_acc: 0.9113\n",
            "Epoch 47/50\n",
            "45000/45000 [==============================] - 5s 118us/step - loss: 0.3796 - acc: 0.8897 - val_loss: 0.3127 - val_acc: 0.9119\n",
            "Epoch 48/50\n",
            "45000/45000 [==============================] - 5s 118us/step - loss: 0.3773 - acc: 0.8892 - val_loss: 0.3104 - val_acc: 0.9123\n",
            "Epoch 49/50\n",
            "45000/45000 [==============================] - 5s 117us/step - loss: 0.3757 - acc: 0.8894 - val_loss: 0.3084 - val_acc: 0.9128\n",
            "Epoch 50/50\n",
            "45000/45000 [==============================] - 5s 118us/step - loss: 0.3712 - acc: 0.8892 - val_loss: 0.3062 - val_acc: 0.9134\n"
          ],
          "name": "stdout"
        }
      ]
    },
    {
      "cell_type": "code",
      "metadata": {
        "id": "1fPLHbVRrBAz",
        "colab_type": "code",
        "colab": {
          "base_uri": "https://localhost:8080/",
          "height": 541
        },
        "outputId": "fbca31db-1b3e-4173-83b6-8e901c513be6"
      },
      "source": [
        "def plot_history(network_history):\n",
        "    plt.figure()\n",
        "    plt.xlabel('Epochs')\n",
        "    plt.ylabel('Loss')\n",
        "    plt.plot(network_history.history['loss'])\n",
        "    plt.plot(network_history.history['val_loss'])\n",
        "    plt.legend(['Training', 'Validation'])\n",
        "\n",
        "    plt.figure()\n",
        "    plt.xlabel('Epochs')\n",
        "    plt.ylabel('Accuracy')\n",
        "    plt.plot(network_history.history['acc'])\n",
        "    plt.plot(network_history.history['val_acc'])\n",
        "    plt.legend(['Training', 'Validation'], loc='lower right')\n",
        "    plt.show()\n",
        "\n",
        "plot_history(network_history)"
      ],
      "execution_count": 7,
      "outputs": [
        {
          "output_type": "display_data",
          "data": {
            "image/png": "[encoded data removed]",
            "text/plain": [
              "<Figure size 432x288 with 1 Axes>"
            ]
          },
          "metadata": {
            "tags": []
          }
        },
        {
          "output_type": "display_data",
          "data": {
            "image/png": "[encoded data removed]",
            "text/plain": [
              "<Figure size 432x288 with 1 Axes>"
            ]
          },
          "metadata": {
            "tags": []
          }
        }
      ]
    },
    {
      "cell_type": "code",
      "metadata": {
        "id": "ZdOxwwvvr8b1",
        "colab_type": "code",
        "colab": {
          "base_uri": "https://localhost:8080/",
          "height": 282
        },
        "outputId": "401d3f22-82ac-462b-ee10-6e81d1d7953a"
      },
      "source": [
        "#predection \n",
        "\n",
        "from keras.preprocessing import image\n",
        "\n",
        "plt.imshow(X_test[3].reshape(28, 28))\n",
        "img = X_test[3].reshape(-1, 784)\n",
        "\n",
        "prediction = model.predict(img)\n",
        "print(np.argmax(prediction))"
      ],
      "execution_count": 8,
      "outputs": [
        {
          "output_type": "stream",
          "text": [
            "0\n"
          ],
          "name": "stdout"
        },
        {
          "output_type": "display_data",
          "data": {
            "image/png": "[encoded data removed]",
            "text/plain": [
              "<Figure size 432x288 with 1 Axes>"
            ]
          },
          "metadata": {
            "tags": []
          }
        }
      ]
    }
  ]
}