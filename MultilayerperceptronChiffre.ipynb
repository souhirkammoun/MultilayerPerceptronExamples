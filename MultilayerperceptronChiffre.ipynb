{
  "nbformat": 4,
  "nbformat_minor": 0,
  "metadata": {
    "colab": {
      "name": "MultilayerperceptronChiffre.ipynb",
      "provenance": [],
      "include_colab_link": true
    },
    "kernelspec": {
      "name": "python3",
      "display_name": "Python 3"
    }
  },
  "cells": [
    {
      "cell_type": "markdown",
      "metadata": {
        "id": "view-in-github",
        "colab_type": "text"
      },
      "source": [
        "<a href=\"https://colab.research.google.com/github/souhirkammoun/MultilayerPerceptronExamples/blob/master/MultilayerperceptronChiffre.ipynb\" target=\"_parent\"><img src=\"https://colab.research.google.com/assets/colab-badge.svg\" alt=\"Open In Colab\"/></a>"
      ]
    },
    {
      "cell_type": "code",
      "metadata": {
        "id": "j2VhuQm_e3z0",
        "colab_type": "code",
        "colab": {}
      },
      "source": [
        "import matplotlib.pyplot as plt\n",
        "%matplotlib inline\n",
        "import numpy as np\n",
        "\n",
        "nb_classes = 10"
      ],
      "execution_count": 0,
      "outputs": []
    },
    {
      "cell_type": "code",
      "metadata": {
        "id": "ZPOtDSdAe4ya",
        "colab_type": "code",
        "outputId": "9da986e9-7928-4812-8b3b-ab654ce1e81c",
        "colab": {
          "base_uri": "https://localhost:8080/",
          "height": 131
        }
      },
      "source": [
        "#Load the MNIST Dataset\n",
        "from keras.datasets import mnist\n",
        "from keras.utils import np_utils\n",
        "\n",
        "(X_train, y_train), (X_test, y_test) = mnist.load_data()\n",
        "\n",
        "X_train.shape"
      ],
      "execution_count": 0,
      "outputs": [
        {
          "output_type": "stream",
          "text": [
            "Using TensorFlow backend.\n"
          ],
          "name": "stderr"
        },
        {
          "output_type": "display_data",
          "data": {
            "text/html": [
              "<p style=\"color: red;\">\n",
              "The default version of TensorFlow in Colab will soon switch to TensorFlow 2.x.<br>\n",
              "We recommend you <a href=\"https://www.tensorflow.org/guide/migrate\" target=\"_blank\">upgrade</a> now \n",
              "or ensure your notebook will continue to use TensorFlow 1.x via the <code>%tensorflow_version 1.x</code> magic:\n",
              "<a href=\"https://colab.research.google.com/notebooks/tensorflow_version.ipynb\" target=\"_blank\">more info</a>.</p>\n"
            ],
            "text/plain": [
              "<IPython.core.display.HTML object>"
            ]
          },
          "metadata": {
            "tags": []
          }
        },
        {
          "output_type": "stream",
          "text": [
            "Downloading data from https://s3.amazonaws.com/img-datasets/mnist.npz\n",
            "11493376/11490434 [==============================] - 1s 0us/step\n"
          ],
          "name": "stdout"
        },
        {
          "output_type": "execute_result",
          "data": {
            "text/plain": [
              "(60000, 28, 28)"
            ]
          },
          "metadata": {
            "tags": []
          },
          "execution_count": 2
        }
      ]
    },
    {
      "cell_type": "code",
      "metadata": {
        "id": "XKeIEdHbe-h4",
        "colab_type": "code",
        "outputId": "d4295f6f-ce4b-4189-8f57-19d8d095c85b",
        "colab": {
          "base_uri": "https://localhost:8080/",
          "height": 88
        }
      },
      "source": [
        "import tensorflow.compat.v1 as tf\n",
        "tf.disable_v2_behavior() "
      ],
      "execution_count": 0,
      "outputs": [
        {
          "output_type": "stream",
          "text": [
            "WARNING:tensorflow:From /usr/local/lib/python3.6/dist-packages/tensorflow_core/python/compat/v2_compat.py:68: disable_resource_variables (from tensorflow.python.ops.variable_scope) is deprecated and will be removed in a future version.\n",
            "Instructions for updating:\n",
            "non-resource variables are not supported in the long term\n"
          ],
          "name": "stdout"
        }
      ]
    },
    {
      "cell_type": "code",
      "metadata": {
        "id": "1m5tpQNmfZ1n",
        "colab_type": "code",
        "outputId": "6ab2e147-5f4a-499e-a58c-029781380f16",
        "colab": {
          "base_uri": "https://localhost:8080/",
          "height": 153
        }
      },
      "source": [
        "#Data preperation\n",
        "X_train = X_train.reshape(60000, 784)\n",
        "X_test = X_test.reshape(10000, 784)\n",
        "X_train = X_train.astype(\"float32\")\n",
        "X_test = X_test.astype(\"float32\")\n",
        "\n",
        "# Put everything on grayscale\n",
        "X_train /= 255\n",
        "X_test /= 255\n",
        "\n",
        "print(y_train)\n",
        "\n",
        "# convert class vectors to binary class matrices\n",
        "Y_train = np_utils.to_categorical(y_train, 10)\n",
        "Y_test = np_utils.to_categorical(y_test, 10)\n",
        "print(Y_train)"
      ],
      "execution_count": 0,
      "outputs": [
        {
          "output_type": "stream",
          "text": [
            "[5 0 4 ... 5 6 8]\n",
            "[[0. 0. 0. ... 0. 0. 0.]\n",
            " [1. 0. 0. ... 0. 0. 0.]\n",
            " [0. 0. 0. ... 0. 0. 0.]\n",
            " ...\n",
            " [0. 0. 0. ... 0. 0. 0.]\n",
            " [0. 0. 0. ... 0. 0. 0.]\n",
            " [0. 0. 0. ... 0. 1. 0.]]\n"
          ],
          "name": "stdout"
        }
      ]
    },
    {
      "cell_type": "code",
      "metadata": {
        "id": "6gEz7CWjfjyE",
        "colab_type": "code",
        "colab": {}
      },
      "source": [
        "from sklearn.model_selection import train_test_split\n",
        "\n",
        "X_train, X_val, Y_train, Y_val = train_test_split(X_train, Y_train)"
      ],
      "execution_count": 0,
      "outputs": []
    },
    {
      "cell_type": "code",
      "metadata": {
        "id": "G2OaVoGefsgE",
        "colab_type": "code",
        "outputId": "dc58d119-cd22-4e46-a440-3864a8c09563",
        "colab": {
          "base_uri": "https://localhost:8080/",
          "height": 299
        }
      },
      "source": [
        "plt.imshow(X_train[5].reshape(28, 28))\n",
        "print(np.asarray(range(10)))\n",
        "print(Y_train[5].astype('int'))"
      ],
      "execution_count": 0,
      "outputs": [
        {
          "output_type": "stream",
          "text": [
            "[0 1 2 3 4 5 6 7 8 9]\n",
            "[0 0 0 1 0 0 0 0 0 0]\n"
          ],
          "name": "stdout"
        },
        {
          "output_type": "display_data",
          "data": {
            "image/png": "[encoded data removed]",
            "text/plain": [
              "<Figure size 432x288 with 1 Axes>"
            ]
          },
          "metadata": {
            "tags": []
          }
        }
      ]
    },
    {
      "cell_type": "code",
      "metadata": {
        "id": "YXIkRGUEfxZU",
        "colab_type": "code",
        "outputId": "28491836-c5a1-43f9-8a12-d7e56fca9984",
        "colab": {
          "base_uri": "https://localhost:8080/",
          "height": 700
        }
      },
      "source": [
        "from keras.models import Sequential\n",
        "from keras.layers.core import Dense, Activation, Dropout\n",
        "from keras.optimizers import SGD\n",
        "# create the model\n",
        "model = Sequential()\n",
        "model.add(Dense(512, input_shape=(784,)))\n",
        "model.add(Activation(\"relu\"))\n",
        "model.add(Dropout(0.2))\n",
        "model.add(Dense(256))\n",
        "model.add(Activation(\"relu\"))\n",
        "model.add(Dropout(0.2))\n",
        "model.add(Dense(nb_classes))\n",
        "model.add(Activation(\"softmax\"))\n",
        "\n",
        "# summarize the model\n",
        "model.summary()\n",
        "\n",
        "model.compile(loss='categorical_crossentropy', optimizer=SGD(lr=0.001), metrics=['accuracy'])"
      ],
      "execution_count": 0,
      "outputs": [
        {
          "output_type": "stream",
          "text": [
            "WARNING:tensorflow:From /usr/local/lib/python3.6/dist-packages/keras/backend/tensorflow_backend.py:66: The name tf.get_default_graph is deprecated. Please use tf.compat.v1.get_default_graph instead.\n",
            "\n",
            "WARNING:tensorflow:From /usr/local/lib/python3.6/dist-packages/keras/backend/tensorflow_backend.py:541: The name tf.placeholder is deprecated. Please use tf.compat.v1.placeholder instead.\n",
            "\n",
            "WARNING:tensorflow:From /usr/local/lib/python3.6/dist-packages/keras/backend/tensorflow_backend.py:4432: The name tf.random_uniform is deprecated. Please use tf.random.uniform instead.\n",
            "\n",
            "WARNING:tensorflow:From /usr/local/lib/python3.6/dist-packages/keras/backend/tensorflow_backend.py:148: The name tf.placeholder_with_default is deprecated. Please use tf.compat.v1.placeholder_with_default instead.\n",
            "\n",
            "WARNING:tensorflow:From /usr/local/lib/python3.6/dist-packages/keras/backend/tensorflow_backend.py:3733: calling dropout (from tensorflow.python.ops.nn_ops) with keep_prob is deprecated and will be removed in a future version.\n",
            "Instructions for updating:\n",
            "Please use `rate` instead of `keep_prob`. Rate should be set to `rate = 1 - keep_prob`.\n",
            "Model: \"sequential_1\"\n",
            "_________________________________________________________________\n",
            "Layer (type)                 Output Shape              Param #   \n",
            "=================================================================\n",
            "dense_1 (Dense)              (None, 512)               401920    \n",
            "_________________________________________________________________\n",
            "activation_1 (Activation)    (None, 512)               0         \n",
            "_________________________________________________________________\n",
            "dropout_1 (Dropout)          (None, 512)               0         \n",
            "_________________________________________________________________\n",
            "dense_2 (Dense)              (None, 256)               131328    \n",
            "_________________________________________________________________\n",
            "activation_2 (Activation)    (None, 256)               0         \n",
            "_________________________________________________________________\n",
            "dropout_2 (Dropout)          (None, 256)               0         \n",
            "_________________________________________________________________\n",
            "dense_3 (Dense)              (None, 10)                2570      \n",
            "_________________________________________________________________\n",
            "activation_3 (Activation)    (None, 10)                0         \n",
            "=================================================================\n",
            "Total params: 535,818\n",
            "Trainable params: 535,818\n",
            "Non-trainable params: 0\n",
            "_________________________________________________________________\n",
            "WARNING:tensorflow:From /usr/local/lib/python3.6/dist-packages/keras/optimizers.py:793: The name tf.train.Optimizer is deprecated. Please use tf.compat.v1.train.Optimizer instead.\n",
            "\n",
            "WARNING:tensorflow:From /usr/local/lib/python3.6/dist-packages/keras/backend/tensorflow_backend.py:3576: The name tf.log is deprecated. Please use tf.math.log instead.\n",
            "\n"
          ],
          "name": "stdout"
        }
      ]
    },
    {
      "cell_type": "code",
      "metadata": {
        "id": "gs1mgbD1fyUq",
        "colab_type": "code",
        "outputId": "1e25a946-0c91-4731-8af0-fe941d033e54",
        "colab": {
          "base_uri": "https://localhost:8080/",
          "height": 1000
        }
      },
      "source": [
        "#Training the model \n",
        "network_history = model.fit(X_train, Y_train, batch_size=128, epochs=50, validation_data=(X_val, Y_val))"
      ],
      "execution_count": 0,
      "outputs": [
        {
          "output_type": "stream",
          "text": [
            "WARNING:tensorflow:From /usr/local/lib/python3.6/dist-packages/tensorflow_core/python/ops/math_grad.py:1424: where (from tensorflow.python.ops.array_ops) is deprecated and will be removed in a future version.\n",
            "Instructions for updating:\n",
            "Use tf.where in 2.0, which has the same broadcast rule as np.where\n",
            "WARNING:tensorflow:From /usr/local/lib/python3.6/dist-packages/keras/backend/tensorflow_backend.py:1033: The name tf.assign_add is deprecated. Please use tf.compat.v1.assign_add instead.\n",
            "\n",
            "WARNING:tensorflow:From /usr/local/lib/python3.6/dist-packages/keras/backend/tensorflow_backend.py:1020: The name tf.assign is deprecated. Please use tf.compat.v1.assign instead.\n",
            "\n",
            "WARNING:tensorflow:From /usr/local/lib/python3.6/dist-packages/keras/backend/tensorflow_backend.py:3005: The name tf.Session is deprecated. Please use tf.compat.v1.Session instead.\n",
            "\n",
            "Train on 45000 samples, validate on 15000 samples\n",
            "Epoch 1/50\n",
            "WARNING:tensorflow:From /usr/local/lib/python3.6/dist-packages/keras/backend/tensorflow_backend.py:190: The name tf.get_default_session is deprecated. Please use tf.compat.v1.get_default_session instead.\n",
            "\n",
            "WARNING:tensorflow:From /usr/local/lib/python3.6/dist-packages/keras/backend/tensorflow_backend.py:197: The name tf.ConfigProto is deprecated. Please use tf.compat.v1.ConfigProto instead.\n",
            "\n",
            "WARNING:tensorflow:From /usr/local/lib/python3.6/dist-packages/keras/backend/tensorflow_backend.py:207: The name tf.global_variables is deprecated. Please use tf.compat.v1.global_variables instead.\n",
            "\n",
            "WARNING:tensorflow:From /usr/local/lib/python3.6/dist-packages/keras/backend/tensorflow_backend.py:216: The name tf.is_variable_initialized is deprecated. Please use tf.compat.v1.is_variable_initialized instead.\n",
            "\n",
            "WARNING:tensorflow:From /usr/local/lib/python3.6/dist-packages/keras/backend/tensorflow_backend.py:223: The name tf.variables_initializer is deprecated. Please use tf.compat.v1.variables_initializer instead.\n",
            "\n",
            "45000/45000 [==============================] - 6s 133us/step - loss: 2.1910 - acc: 0.2249 - val_loss: 2.0454 - val_acc: 0.4819\n",
            "Epoch 2/50\n",
            "45000/45000 [==============================] - 5s 112us/step - loss: 1.9598 - acc: 0.4472 - val_loss: 1.7991 - val_acc: 0.6664\n",
            "Epoch 3/50\n",
            "45000/45000 [==============================] - 5s 112us/step - loss: 1.7277 - acc: 0.5908 - val_loss: 1.5474 - val_acc: 0.7327\n",
            "Epoch 4/50\n",
            "45000/45000 [==============================] - 5s 108us/step - loss: 1.4964 - acc: 0.6633 - val_loss: 1.3155 - val_acc: 0.7683\n",
            "Epoch 5/50\n",
            "45000/45000 [==============================] - 5s 118us/step - loss: 1.2972 - acc: 0.7050 - val_loss: 1.1234 - val_acc: 0.7900\n",
            "Epoch 6/50\n",
            "45000/45000 [==============================] - 5s 114us/step - loss: 1.1340 - acc: 0.7335 - val_loss: 0.9760 - val_acc: 0.8115\n",
            "Epoch 7/50\n",
            "45000/45000 [==============================] - 5s 118us/step - loss: 1.0101 - acc: 0.7548 - val_loss: 0.8645 - val_acc: 0.8225\n",
            "Epoch 8/50\n",
            "45000/45000 [==============================] - 5s 114us/step - loss: 0.9137 - acc: 0.7754 - val_loss: 0.7802 - val_acc: 0.8321\n",
            "Epoch 9/50\n",
            "45000/45000 [==============================] - 5s 117us/step - loss: 0.8401 - acc: 0.7838 - val_loss: 0.7152 - val_acc: 0.8392\n",
            "Epoch 10/50\n",
            "45000/45000 [==============================] - 5s 120us/step - loss: 0.7840 - acc: 0.7925 - val_loss: 0.6646 - val_acc: 0.8465\n",
            "Epoch 11/50\n",
            "45000/45000 [==============================] - 5s 122us/step - loss: 0.7384 - acc: 0.8016 - val_loss: 0.6237 - val_acc: 0.8519\n",
            "Epoch 12/50\n",
            "45000/45000 [==============================] - 5s 121us/step - loss: 0.6997 - acc: 0.8099 - val_loss: 0.5904 - val_acc: 0.8575\n",
            "Epoch 13/50\n",
            "45000/45000 [==============================] - 6s 122us/step - loss: 0.6679 - acc: 0.8163 - val_loss: 0.5626 - val_acc: 0.8615\n",
            "Epoch 14/50\n",
            "45000/45000 [==============================] - 5s 117us/step - loss: 0.6430 - acc: 0.8201 - val_loss: 0.5390 - val_acc: 0.8651\n",
            "Epoch 15/50\n",
            "45000/45000 [==============================] - 5s 121us/step - loss: 0.6199 - acc: 0.8269 - val_loss: 0.5189 - val_acc: 0.8701\n",
            "Epoch 16/50\n",
            "45000/45000 [==============================] - 5s 121us/step - loss: 0.6000 - acc: 0.8302 - val_loss: 0.5016 - val_acc: 0.8726\n",
            "Epoch 17/50\n",
            "45000/45000 [==============================] - 5s 121us/step - loss: 0.5782 - acc: 0.8370 - val_loss: 0.4865 - val_acc: 0.8741\n",
            "Epoch 18/50\n",
            "45000/45000 [==============================] - 5s 120us/step - loss: 0.5660 - acc: 0.8387 - val_loss: 0.4727 - val_acc: 0.8772\n",
            "Epoch 19/50\n",
            "45000/45000 [==============================] - 5s 120us/step - loss: 0.5486 - acc: 0.8441 - val_loss: 0.4605 - val_acc: 0.8796\n",
            "Epoch 20/50\n",
            "45000/45000 [==============================] - 5s 121us/step - loss: 0.5358 - acc: 0.8462 - val_loss: 0.4496 - val_acc: 0.8821\n",
            "Epoch 21/50\n",
            "45000/45000 [==============================] - 6s 125us/step - loss: 0.5247 - acc: 0.8498 - val_loss: 0.4397 - val_acc: 0.8835\n",
            "Epoch 22/50\n",
            "45000/45000 [==============================] - 6s 125us/step - loss: 0.5118 - acc: 0.8534 - val_loss: 0.4304 - val_acc: 0.8856\n",
            "Epoch 23/50\n",
            "45000/45000 [==============================] - 6s 124us/step - loss: 0.5006 - acc: 0.8564 - val_loss: 0.4221 - val_acc: 0.8871\n",
            "Epoch 24/50\n",
            "45000/45000 [==============================] - 6s 126us/step - loss: 0.4951 - acc: 0.8579 - val_loss: 0.4144 - val_acc: 0.8891\n",
            "Epoch 25/50\n",
            "45000/45000 [==============================] - 6s 122us/step - loss: 0.4836 - acc: 0.8614 - val_loss: 0.4082 - val_acc: 0.8901\n",
            "Epoch 26/50\n",
            "45000/45000 [==============================] - 6s 125us/step - loss: 0.4780 - acc: 0.8611 - val_loss: 0.4015 - val_acc: 0.8909\n",
            "Epoch 27/50\n",
            "45000/45000 [==============================] - 5s 122us/step - loss: 0.4727 - acc: 0.8636 - val_loss: 0.3952 - val_acc: 0.8922\n",
            "Epoch 28/50\n",
            "45000/45000 [==============================] - 5s 121us/step - loss: 0.4650 - acc: 0.8646 - val_loss: 0.3898 - val_acc: 0.8930\n",
            "Epoch 29/50\n",
            "45000/45000 [==============================] - 6s 123us/step - loss: 0.4585 - acc: 0.8672 - val_loss: 0.3844 - val_acc: 0.8945\n",
            "Epoch 30/50\n",
            "45000/45000 [==============================] - 6s 126us/step - loss: 0.4527 - acc: 0.8696 - val_loss: 0.3799 - val_acc: 0.8953\n",
            "Epoch 31/50\n",
            "45000/45000 [==============================] - 5s 121us/step - loss: 0.4451 - acc: 0.8708 - val_loss: 0.3750 - val_acc: 0.8961\n",
            "Epoch 32/50\n",
            "45000/45000 [==============================] - 5s 120us/step - loss: 0.4406 - acc: 0.8716 - val_loss: 0.3705 - val_acc: 0.8974\n",
            "Epoch 33/50\n",
            "45000/45000 [==============================] - 5s 119us/step - loss: 0.4360 - acc: 0.8730 - val_loss: 0.3667 - val_acc: 0.8978\n",
            "Epoch 34/50\n",
            "45000/45000 [==============================] - 5s 117us/step - loss: 0.4312 - acc: 0.8745 - val_loss: 0.3628 - val_acc: 0.8987\n",
            "Epoch 35/50\n",
            "45000/45000 [==============================] - 5s 113us/step - loss: 0.4266 - acc: 0.8771 - val_loss: 0.3586 - val_acc: 0.8993\n",
            "Epoch 36/50\n",
            "45000/45000 [==============================] - 5s 115us/step - loss: 0.4216 - acc: 0.8773 - val_loss: 0.3552 - val_acc: 0.8999\n",
            "Epoch 37/50\n",
            "45000/45000 [==============================] - 5s 120us/step - loss: 0.4158 - acc: 0.8803 - val_loss: 0.3517 - val_acc: 0.9011\n",
            "Epoch 38/50\n",
            "45000/45000 [==============================] - 5s 117us/step - loss: 0.4141 - acc: 0.8800 - val_loss: 0.3485 - val_acc: 0.9021\n",
            "Epoch 39/50\n",
            "45000/45000 [==============================] - 5s 113us/step - loss: 0.4084 - acc: 0.8824 - val_loss: 0.3454 - val_acc: 0.9025\n",
            "Epoch 40/50\n",
            "45000/45000 [==============================] - 5s 113us/step - loss: 0.4041 - acc: 0.8834 - val_loss: 0.3425 - val_acc: 0.9035\n",
            "Epoch 41/50\n",
            "45000/45000 [==============================] - 5s 115us/step - loss: 0.3996 - acc: 0.8843 - val_loss: 0.3396 - val_acc: 0.9040\n",
            "Epoch 42/50\n",
            "45000/45000 [==============================] - 5s 114us/step - loss: 0.3995 - acc: 0.8841 - val_loss: 0.3367 - val_acc: 0.9053\n",
            "Epoch 43/50\n",
            "45000/45000 [==============================] - 5s 118us/step - loss: 0.3953 - acc: 0.8854 - val_loss: 0.3339 - val_acc: 0.9056\n",
            "Epoch 44/50\n",
            "45000/45000 [==============================] - 5s 115us/step - loss: 0.3887 - acc: 0.8860 - val_loss: 0.3314 - val_acc: 0.9061\n",
            "Epoch 45/50\n",
            "45000/45000 [==============================] - 5s 117us/step - loss: 0.3876 - acc: 0.8878 - val_loss: 0.3288 - val_acc: 0.9075\n",
            "Epoch 46/50\n",
            "45000/45000 [==============================] - 5s 118us/step - loss: 0.3839 - acc: 0.8883 - val_loss: 0.3266 - val_acc: 0.9081\n",
            "Epoch 47/50\n",
            "45000/45000 [==============================] - 5s 118us/step - loss: 0.3817 - acc: 0.8902 - val_loss: 0.3240 - val_acc: 0.9087\n",
            "Epoch 48/50\n",
            "45000/45000 [==============================] - 5s 116us/step - loss: 0.3771 - acc: 0.8892 - val_loss: 0.3218 - val_acc: 0.9095\n",
            "Epoch 49/50\n",
            "45000/45000 [==============================] - 5s 121us/step - loss: 0.3780 - acc: 0.8905 - val_loss: 0.3195 - val_acc: 0.9099\n",
            "Epoch 50/50\n",
            "45000/45000 [==============================] - 6s 125us/step - loss: 0.3717 - acc: 0.8922 - val_loss: 0.3172 - val_acc: 0.9107\n"
          ],
          "name": "stdout"
        }
      ]
    },
    {
      "cell_type": "code",
      "metadata": {
        "id": "uaIXaQCif129",
        "colab_type": "code",
        "outputId": "a31ee7de-2cda-4c15-a650-2a297511f8f9",
        "colab": {
          "base_uri": "https://localhost:8080/",
          "height": 541
        }
      },
      "source": [
        "def plot_history(network_history):\n",
        "    plt.figure()\n",
        "    plt.xlabel('Epochs')\n",
        "    plt.ylabel('Loss')\n",
        "    plt.plot(network_history.history['loss'])\n",
        "    plt.plot(network_history.history['val_loss'])\n",
        "    plt.legend(['Training', 'Validation'])\n",
        "\n",
        "    plt.figure()\n",
        "    plt.xlabel('Epochs')\n",
        "    plt.ylabel('Accuracy')\n",
        "    plt.plot(network_history.history['acc'])\n",
        "    plt.plot(network_history.history['val_acc'])\n",
        "    plt.legend(['Training', 'Validation'], loc='lower right')\n",
        "    plt.show()\n",
        "\n",
        "plot_history(network_history)"
      ],
      "execution_count": 0,
      "outputs": [
        {
          "output_type": "display_data",
          "data": {
            "image/png": "[encoded data removed]",
            "text/plain": [
              "<Figure size 432x288 with 1 Axes>"
            ]
          },
          "metadata": {
            "tags": []
          }
        },
        {
          "output_type": "display_data",
          "data": {
            "image/png": "[encoded data removed]",
            "text/plain": [
              "<Figure size 432x288 with 1 Axes>"
            ]
          },
          "metadata": {
            "tags": []
          }
        }
      ]
    },
    {
      "cell_type": "code",
      "metadata": {
        "id": "iAt5zy4Wj5e8",
        "colab_type": "code",
        "outputId": "25d723ec-874f-4698-ca85-b603a758ac42",
        "colab": {
          "base_uri": "https://localhost:8080/",
          "height": 282
        }
      },
      "source": [
        "#predection \n",
        "\n",
        "from keras.preprocessing import image\n",
        "\n",
        "plt.imshow(X_test[10].reshape(28, 28))\n",
        "img = X_test[10].reshape(-1, 784)\n",
        "\n",
        "prediction = model.predict(img)\n",
        "print(np.argmax(prediction))"
      ],
      "execution_count": 0,
      "outputs": [
        {
          "output_type": "stream",
          "text": [
            "9\n"
          ],
          "name": "stdout"
        },
        {
          "output_type": "display_data",
          "data": {
            "image/png": "[encoded data removed]",
            "text/plain": [
              "<Figure size 432x288 with 1 Axes>"
            ]
          },
          "metadata": {
            "tags": []
          }
        }
      ]
    }
  ]
}