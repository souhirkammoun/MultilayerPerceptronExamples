{
  "nbformat": 4,
  "nbformat_minor": 0,
  "metadata": {
    "colab": {
      "name": "MLPinKeraswithmnistdataset.ipynb",
      "provenance": [],
      "collapsed_sections": [],
      "include_colab_link": true
    },
    "kernelspec": {
      "name": "python3",
      "display_name": "Python 3"
    }
  },
  "cells": [
    {
      "cell_type": "markdown",
      "metadata": {
        "id": "view-in-github",
        "colab_type": "text"
      },
      "source": [
        "<a href=\"https://colab.research.google.com/github/souhirkammoun/MultilayerPerceptronExamples/blob/master/MLPinKeraswithmnistdataset.ipynb\" target=\"_parent\"><img src=\"https://colab.research.google.com/assets/colab-badge.svg\" alt=\"Open In Colab\"/></a>"
      ]
    },
    {
      "cell_type": "code",
      "metadata": {
        "id": "j2VhuQm_e3z0",
        "colab_type": "code",
        "colab": {}
      },
      "source": [
        "import matplotlib.pyplot as plt\n",
        "%matplotlib inline\n",
        "import numpy as np\n",
        "\n",
        "nb_classes = 10"
      ],
      "execution_count": 0,
      "outputs": []
    },
    {
      "cell_type": "code",
      "metadata": {
        "id": "ZPOtDSdAe4ya",
        "colab_type": "code",
        "outputId": "4e5f6c7c-f87d-418a-f0cc-4cd715cbabf7",
        "colab": {
          "base_uri": "https://localhost:8080/",
          "height": 34
        }
      },
      "source": [
        "#Load the MNIST Dataset\n",
        "from keras.datasets import mnist\n",
        "from keras.utils import np_utils\n",
        "\n",
        "(X_train, y_train), (X_test, y_test) = mnist.load_data()\n",
        "# we can look at the shape of the dataset\n",
        "X_train.shape\n",
        "# it appears that we have 60,000 samples in our training set, and the images are 28 pixels x 28 pixels each. \n"
      ],
      "execution_count": 10,
      "outputs": [
        {
          "output_type": "execute_result",
          "data": {
            "text/plain": [
              "(60000, 28, 28)"
            ]
          },
          "metadata": {
            "tags": []
          },
          "execution_count": 10
        }
      ]
    },
    {
      "cell_type": "code",
      "metadata": {
        "id": "XKeIEdHbe-h4",
        "colab_type": "code",
        "colab": {
          "base_uri": "https://localhost:8080/",
          "height": 88
        },
        "outputId": "1dcfb236-7310-4418-e6ff-514d5521f826"
      },
      "source": [
        "import tensorflow.compat.v1 as tf\n",
        "tf.disable_v2_behavior() "
      ],
      "execution_count": 3,
      "outputs": [
        {
          "output_type": "stream",
          "text": [
            "WARNING:tensorflow:From /usr/local/lib/python3.6/dist-packages/tensorflow_core/python/compat/v2_compat.py:68: disable_resource_variables (from tensorflow.python.ops.variable_scope) is deprecated and will be removed in a future version.\n",
            "Instructions for updating:\n",
            "non-resource variables are not supported in the long term\n"
          ],
          "name": "stdout"
        }
      ]
    },
    {
      "cell_type": "code",
      "metadata": {
        "id": "1m5tpQNmfZ1n",
        "colab_type": "code",
        "outputId": "d8014a2d-416b-4a33-a879-fdf5fc63822f",
        "colab": {
          "base_uri": "https://localhost:8080/",
          "height": 85
        }
      },
      "source": [
        "#Data preperation\n",
        "# we want to transform our dataset from having shape (n, width, height) to (n, width *height).\n",
        "print(X_train.shape)\n",
        "X_train = X_train.reshape(60000, 784)\n",
        "X_test = X_test.reshape(10000, 784)\n",
        "print(X_train.shape)\n",
        "#we can convert our data type to float32 and normalize our data values to the range [0, 1].\n",
        "X_train = X_train.astype(\"float32\")\n",
        "X_test = X_test.astype(\"float32\")\n",
        "X_train /= 255\n",
        "X_test /= 255\n",
        "print(y_train.shape)\n",
        "#We should have 10 different classes, one for each digit, but it looks like we only have a 1-dimensional array.\n",
        "# we must Convert 1-dimensional class arrays to 10-dimensional class matrices\n",
        "Y_train = np_utils.to_categorical(y_train, 10)\n",
        "Y_test = np_utils.to_categorical(y_test, 10)\n",
        "print(Y_train.shape)"
      ],
      "execution_count": 13,
      "outputs": [
        {
          "output_type": "stream",
          "text": [
            "(60000, 784)\n",
            "(60000, 784)\n",
            "(60000,)\n",
            "(60000, 10)\n"
          ],
          "name": "stdout"
        }
      ]
    },
    {
      "cell_type": "code",
      "metadata": {
        "id": "6gEz7CWjfjyE",
        "colab_type": "code",
        "colab": {}
      },
      "source": [
        "from sklearn.model_selection import train_test_split\n",
        "\n",
        "X_train, X_val, Y_train, Y_val = train_test_split(X_train, Y_train)"
      ],
      "execution_count": 0,
      "outputs": []
    },
    {
      "cell_type": "code",
      "metadata": {
        "id": "G2OaVoGefsgE",
        "colab_type": "code",
        "outputId": "a421c3fc-4eca-457b-82a3-03e6bd094070",
        "colab": {
          "base_uri": "https://localhost:8080/",
          "height": 299
        }
      },
      "source": [
        "# test the dataset\n",
        "plt.imshow(X_train[5].reshape(28, 28))\n",
        "print(np.asarray(range(10)))\n",
        "print(Y_train[5].astype('int'))"
      ],
      "execution_count": 15,
      "outputs": [
        {
          "output_type": "stream",
          "text": [
            "[0 1 2 3 4 5 6 7 8 9]\n",
            "[1 0 0 0 0 0 0 0 0 0]\n"
          ],
          "name": "stdout"
        },
        {
          "output_type": "display_data",
          "data": {
            "image/png": "[encoded data removed]",
            "text/plain": [
              "<Figure size 432x288 with 1 Axes>"
            ]
          },
          "metadata": {
            "tags": []
          }
        }
      ]
    },
    {
      "cell_type": "code",
      "metadata": {
        "id": "YXIkRGUEfxZU",
        "colab_type": "code",
        "colab": {}
      },
      "source": [
        "from keras.models import Sequential\n",
        "from keras.layers.core import Dense, Activation, Dropout\n",
        "from keras.optimizers import SGD\n",
        "# create the model\n",
        "model = Sequential()\n",
        "model.add(Dense(512, input_shape=(784,)))\n",
        "model.add(Activation(\"relu\"))\n",
        "model.add(Dropout(0.2))\n",
        "model.add(Dense(256))\n",
        "model.add(Activation(\"relu\"))\n",
        "model.add(Dropout(0.2))\n",
        "model.add(Dense(nb_classes))\n",
        "model.add(Activation(\"softmax\"))\n",
        "\n",
        "\n",
        "model.compile(loss='categorical_crossentropy', optimizer=SGD(lr=0.001), metrics=['accuracy'])"
      ],
      "execution_count": 0,
      "outputs": []
    },
    {
      "cell_type": "code",
      "metadata": {
        "id": "gs1mgbD1fyUq",
        "colab_type": "code",
        "outputId": "fae44ed4-1bae-46db-cfa5-21adef116526",
        "colab": {
          "base_uri": "https://localhost:8080/",
          "height": 1000
        }
      },
      "source": [
        "#Training the model \n",
        "network_history = model.fit(X_train, Y_train, batch_size=128, epochs=50, validation_data=(X_val, Y_val), verbose=1)"
      ],
      "execution_count": 20,
      "outputs": [
        {
          "output_type": "stream",
          "text": [
            "WARNING:tensorflow:From /usr/local/lib/python3.6/dist-packages/tensorflow_core/python/ops/math_grad.py:1424: where (from tensorflow.python.ops.array_ops) is deprecated and will be removed in a future version.\n",
            "Instructions for updating:\n",
            "Use tf.where in 2.0, which has the same broadcast rule as np.where\n",
            "WARNING:tensorflow:From /usr/local/lib/python3.6/dist-packages/keras/backend/tensorflow_backend.py:1033: The name tf.assign_add is deprecated. Please use tf.compat.v1.assign_add instead.\n",
            "\n",
            "WARNING:tensorflow:From /usr/local/lib/python3.6/dist-packages/keras/backend/tensorflow_backend.py:1020: The name tf.assign is deprecated. Please use tf.compat.v1.assign instead.\n",
            "\n",
            "WARNING:tensorflow:From /usr/local/lib/python3.6/dist-packages/keras/backend/tensorflow_backend.py:3005: The name tf.Session is deprecated. Please use tf.compat.v1.Session instead.\n",
            "\n",
            "Train on 45000 samples, validate on 15000 samples\n",
            "Epoch 1/50\n",
            "WARNING:tensorflow:From /usr/local/lib/python3.6/dist-packages/keras/backend/tensorflow_backend.py:190: The name tf.get_default_session is deprecated. Please use tf.compat.v1.get_default_session instead.\n",
            "\n",
            "WARNING:tensorflow:From /usr/local/lib/python3.6/dist-packages/keras/backend/tensorflow_backend.py:197: The name tf.ConfigProto is deprecated. Please use tf.compat.v1.ConfigProto instead.\n",
            "\n",
            "WARNING:tensorflow:From /usr/local/lib/python3.6/dist-packages/keras/backend/tensorflow_backend.py:207: The name tf.global_variables is deprecated. Please use tf.compat.v1.global_variables instead.\n",
            "\n",
            "WARNING:tensorflow:From /usr/local/lib/python3.6/dist-packages/keras/backend/tensorflow_backend.py:216: The name tf.is_variable_initialized is deprecated. Please use tf.compat.v1.is_variable_initialized instead.\n",
            "\n",
            "WARNING:tensorflow:From /usr/local/lib/python3.6/dist-packages/keras/backend/tensorflow_backend.py:223: The name tf.variables_initializer is deprecated. Please use tf.compat.v1.variables_initializer instead.\n",
            "\n",
            "45000/45000 [==============================] - 5s 121us/step - loss: 2.3025 - acc: 0.1119 - val_loss: 2.3024 - val_acc: 0.1121\n",
            "Epoch 2/50\n",
            "45000/45000 [==============================] - 5s 102us/step - loss: 2.3023 - acc: 0.1124 - val_loss: 2.3022 - val_acc: 0.1121\n",
            "Epoch 3/50\n",
            "45000/45000 [==============================] - 5s 101us/step - loss: 2.3021 - acc: 0.1124 - val_loss: 2.3021 - val_acc: 0.1121\n",
            "Epoch 4/50\n",
            "45000/45000 [==============================] - 5s 101us/step - loss: 2.3020 - acc: 0.1124 - val_loss: 2.3020 - val_acc: 0.1121\n",
            "Epoch 5/50\n",
            "45000/45000 [==============================] - 5s 104us/step - loss: 2.3019 - acc: 0.1124 - val_loss: 2.3019 - val_acc: 0.1121\n",
            "Epoch 6/50\n",
            "45000/45000 [==============================] - 5s 105us/step - loss: 2.3018 - acc: 0.1124 - val_loss: 2.3018 - val_acc: 0.1121\n",
            "Epoch 7/50\n",
            "45000/45000 [==============================] - 5s 103us/step - loss: 2.3017 - acc: 0.1124 - val_loss: 2.3017 - val_acc: 0.1121\n",
            "Epoch 8/50\n",
            "45000/45000 [==============================] - 5s 104us/step - loss: 2.3016 - acc: 0.1124 - val_loss: 2.3017 - val_acc: 0.1121\n",
            "Epoch 9/50\n",
            "45000/45000 [==============================] - 5s 106us/step - loss: 2.3015 - acc: 0.1124 - val_loss: 2.3016 - val_acc: 0.1121\n",
            "Epoch 10/50\n",
            "45000/45000 [==============================] - 5s 106us/step - loss: 2.3015 - acc: 0.1124 - val_loss: 2.3016 - val_acc: 0.1121\n",
            "Epoch 11/50\n",
            "45000/45000 [==============================] - 5s 104us/step - loss: 2.3014 - acc: 0.1124 - val_loss: 2.3015 - val_acc: 0.1121\n",
            "Epoch 12/50\n",
            "45000/45000 [==============================] - 5s 103us/step - loss: 2.3014 - acc: 0.1124 - val_loss: 2.3015 - val_acc: 0.1121\n",
            "Epoch 13/50\n",
            "45000/45000 [==============================] - 5s 102us/step - loss: 2.3013 - acc: 0.1124 - val_loss: 2.3015 - val_acc: 0.1121\n",
            "Epoch 14/50\n",
            "45000/45000 [==============================] - 5s 102us/step - loss: 2.3013 - acc: 0.1124 - val_loss: 2.3015 - val_acc: 0.1121\n",
            "Epoch 15/50\n",
            "45000/45000 [==============================] - 5s 102us/step - loss: 2.3013 - acc: 0.1124 - val_loss: 2.3014 - val_acc: 0.1121\n",
            "Epoch 16/50\n",
            "45000/45000 [==============================] - 5s 104us/step - loss: 2.3013 - acc: 0.1124 - val_loss: 2.3014 - val_acc: 0.1121\n",
            "Epoch 17/50\n",
            "45000/45000 [==============================] - 5s 105us/step - loss: 2.3012 - acc: 0.1124 - val_loss: 2.3014 - val_acc: 0.1121\n",
            "Epoch 18/50\n",
            "45000/45000 [==============================] - 5s 106us/step - loss: 2.3012 - acc: 0.1124 - val_loss: 2.3014 - val_acc: 0.1121\n",
            "Epoch 19/50\n",
            "45000/45000 [==============================] - 5s 105us/step - loss: 2.3012 - acc: 0.1124 - val_loss: 2.3014 - val_acc: 0.1121\n",
            "Epoch 20/50\n",
            "45000/45000 [==============================] - 5s 105us/step - loss: 2.3012 - acc: 0.1124 - val_loss: 2.3014 - val_acc: 0.1121\n",
            "Epoch 21/50\n",
            "45000/45000 [==============================] - 5s 106us/step - loss: 2.3012 - acc: 0.1124 - val_loss: 2.3014 - val_acc: 0.1121\n",
            "Epoch 22/50\n",
            "45000/45000 [==============================] - 5s 107us/step - loss: 2.3012 - acc: 0.1124 - val_loss: 2.3014 - val_acc: 0.1121\n",
            "Epoch 23/50\n",
            "45000/45000 [==============================] - 5s 104us/step - loss: 2.3011 - acc: 0.1124 - val_loss: 2.3014 - val_acc: 0.1121\n",
            "Epoch 24/50\n",
            "45000/45000 [==============================] - 5s 109us/step - loss: 2.3012 - acc: 0.1124 - val_loss: 2.3014 - val_acc: 0.1121\n",
            "Epoch 25/50\n",
            "45000/45000 [==============================] - 5s 107us/step - loss: 2.3011 - acc: 0.1124 - val_loss: 2.3014 - val_acc: 0.1121\n",
            "Epoch 26/50\n",
            "45000/45000 [==============================] - 5s 104us/step - loss: 2.3012 - acc: 0.1124 - val_loss: 2.3014 - val_acc: 0.1121\n",
            "Epoch 27/50\n",
            "45000/45000 [==============================] - 5s 103us/step - loss: 2.3011 - acc: 0.1124 - val_loss: 2.3014 - val_acc: 0.1121\n",
            "Epoch 28/50\n",
            "45000/45000 [==============================] - 5s 104us/step - loss: 2.3012 - acc: 0.1124 - val_loss: 2.3014 - val_acc: 0.1121\n",
            "Epoch 29/50\n",
            "45000/45000 [==============================] - 5s 103us/step - loss: 2.3011 - acc: 0.1124 - val_loss: 2.3014 - val_acc: 0.1121\n",
            "Epoch 30/50\n",
            "45000/45000 [==============================] - 5s 103us/step - loss: 2.3011 - acc: 0.1124 - val_loss: 2.3014 - val_acc: 0.1121\n",
            "Epoch 31/50\n",
            "45000/45000 [==============================] - 5s 104us/step - loss: 2.3011 - acc: 0.1124 - val_loss: 2.3014 - val_acc: 0.1121\n",
            "Epoch 32/50\n",
            "45000/45000 [==============================] - 5s 103us/step - loss: 2.3011 - acc: 0.1124 - val_loss: 2.3014 - val_acc: 0.1121\n",
            "Epoch 33/50\n",
            "45000/45000 [==============================] - 5s 102us/step - loss: 2.3011 - acc: 0.1124 - val_loss: 2.3014 - val_acc: 0.1121\n",
            "Epoch 34/50\n",
            "45000/45000 [==============================] - 5s 102us/step - loss: 2.3011 - acc: 0.1124 - val_loss: 2.3014 - val_acc: 0.1121\n",
            "Epoch 35/50\n",
            "45000/45000 [==============================] - 5s 104us/step - loss: 2.3011 - acc: 0.1124 - val_loss: 2.3014 - val_acc: 0.1121\n",
            "Epoch 36/50\n",
            "45000/45000 [==============================] - 5s 104us/step - loss: 2.3011 - acc: 0.1124 - val_loss: 2.3014 - val_acc: 0.1121\n",
            "Epoch 37/50\n",
            "45000/45000 [==============================] - 5s 104us/step - loss: 2.3011 - acc: 0.1124 - val_loss: 2.3014 - val_acc: 0.1121\n",
            "Epoch 38/50\n",
            "45000/45000 [==============================] - 5s 106us/step - loss: 2.3011 - acc: 0.1124 - val_loss: 2.3014 - val_acc: 0.1121\n",
            "Epoch 39/50\n",
            "45000/45000 [==============================] - 5s 102us/step - loss: 2.3011 - acc: 0.1124 - val_loss: 2.3014 - val_acc: 0.1121\n",
            "Epoch 40/50\n",
            "45000/45000 [==============================] - 5s 107us/step - loss: 2.3011 - acc: 0.1124 - val_loss: 2.3014 - val_acc: 0.1121\n",
            "Epoch 41/50\n",
            "45000/45000 [==============================] - 5s 108us/step - loss: 2.3011 - acc: 0.1124 - val_loss: 2.3014 - val_acc: 0.1121\n",
            "Epoch 42/50\n",
            "45000/45000 [==============================] - 5s 108us/step - loss: 2.3011 - acc: 0.1124 - val_loss: 2.3014 - val_acc: 0.1121\n",
            "Epoch 43/50\n",
            "45000/45000 [==============================] - 5s 103us/step - loss: 2.3011 - acc: 0.1124 - val_loss: 2.3014 - val_acc: 0.1121\n",
            "Epoch 44/50\n",
            "45000/45000 [==============================] - 5s 106us/step - loss: 2.3011 - acc: 0.1124 - val_loss: 2.3014 - val_acc: 0.1121\n",
            "Epoch 45/50\n",
            "45000/45000 [==============================] - 5s 104us/step - loss: 2.3011 - acc: 0.1124 - val_loss: 2.3014 - val_acc: 0.1121\n",
            "Epoch 46/50\n",
            "45000/45000 [==============================] - 5s 105us/step - loss: 2.3011 - acc: 0.1124 - val_loss: 2.3014 - val_acc: 0.1121\n",
            "Epoch 47/50\n",
            "45000/45000 [==============================] - 5s 105us/step - loss: 2.3011 - acc: 0.1124 - val_loss: 2.3014 - val_acc: 0.1121\n",
            "Epoch 48/50\n",
            "45000/45000 [==============================] - 5s 105us/step - loss: 2.3011 - acc: 0.1124 - val_loss: 2.3014 - val_acc: 0.1121\n",
            "Epoch 49/50\n",
            "45000/45000 [==============================] - 5s 105us/step - loss: 2.3011 - acc: 0.1124 - val_loss: 2.3014 - val_acc: 0.1121\n",
            "Epoch 50/50\n",
            "45000/45000 [==============================] - 5s 106us/step - loss: 2.3011 - acc: 0.1124 - val_loss: 2.3014 - val_acc: 0.1121\n"
          ],
          "name": "stdout"
        }
      ]
    },
    {
      "cell_type": "code",
      "metadata": {
        "id": "uaIXaQCif129",
        "colab_type": "code",
        "outputId": "fa825937-d747-4292-9dbc-5544d050f93f",
        "colab": {
          "base_uri": "https://localhost:8080/",
          "height": 541
        }
      },
      "source": [
        "def plot_history(network_history):\n",
        "    plt.figure()\n",
        "    plt.xlabel('Epochs')\n",
        "    plt.ylabel('Loss')\n",
        "    plt.plot(network_history.history['loss'])\n",
        "    plt.plot(network_history.history['val_loss'])\n",
        "    plt.legend(['Training', 'Validation'])\n",
        "\n",
        "    plt.figure()\n",
        "    plt.xlabel('Epochs')\n",
        "    plt.ylabel('Accuracy')\n",
        "    plt.plot(network_history.history['acc'])\n",
        "    plt.plot(network_history.history['val_acc'])\n",
        "    plt.legend(['Training', 'Validation'], loc='lower right')\n",
        "    plt.show()\n",
        "\n",
        "plot_history(network_history)"
      ],
      "execution_count": 21,
      "outputs": [
        {
          "output_type": "display_data",
          "data": {
            "image/png": "[encoded data removed]",
            "text/plain": [
              "<Figure size 432x288 with 1 Axes>"
            ]
          },
          "metadata": {
            "tags": []
          }
        },
        {
          "output_type": "display_data",
          "data": {
            "image/png": "[encoded data removed]",
            "text/plain": [
              "<Figure size 432x288 with 1 Axes>"
            ]
          },
          "metadata": {
            "tags": []
          }
        }
      ]
    },
    {
      "cell_type": "code",
      "metadata": {
        "id": "iAt5zy4Wj5e8",
        "colab_type": "code",
        "outputId": "05ed7967-1d99-4719-bc69-cf1092b5fdc9",
        "colab": {
          "base_uri": "https://localhost:8080/",
          "height": 282
        }
      },
      "source": [
        "#predection \n",
        "\n",
        "from keras.preprocessing import image\n",
        "\n",
        "plt.imshow(X_test[3].reshape(28, 28))\n",
        "img = X_test[3].reshape(-1, 784)\n",
        "\n",
        "prediction = model.predict(img)\n",
        "print(np.argmax(prediction))"
      ],
      "execution_count": 22,
      "outputs": [
        {
          "output_type": "stream",
          "text": [
            "1\n"
          ],
          "name": "stdout"
        },
        {
          "output_type": "display_data",
          "data": {
            "image/png": "[encoded data removed]",
            "text/plain": [
              "<Figure size 432x288 with 1 Axes>"
            ]
          },
          "metadata": {
            "tags": []
          }
        }
      ]
    }
  ]
}